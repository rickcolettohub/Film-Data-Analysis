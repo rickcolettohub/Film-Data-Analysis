{
 "cells": [
  {
   "cell_type": "markdown",
   "id": "57bc67e0",
   "metadata": {},
   "source": [
    "# Exploratory Data Analysis"
   ]
  },
  {
   "cell_type": "markdown",
   "metadata": {},
   "source": [
    "## Import"
   ]
  },
  {
   "cell_type": "code",
   "execution_count": 1,
   "id": "f9128bd4",
   "metadata": {},
   "outputs": [],
   "source": [
    "import pandas as pd\n",
    "#import numpy as np\n",
    "#import matplotlib.pyplot as plt\n",
    "#import seaborn as sns\n",
    "import sys\n",
    "import os\n",
    "#from rapidfuzz import fuzz, process\n",
    "import unidecode\n",
    "#import requests\n",
    "import json"
   ]
  },
  {
   "cell_type": "markdown",
   "id": "3f66a40f",
   "metadata": {},
   "source": [
    "## Raw Data"
   ]
  },
  {
   "cell_type": "code",
   "execution_count": 2,
   "id": "2477f64a",
   "metadata": {},
   "outputs": [
    {
     "name": "stdout",
     "output_type": "stream",
     "text": [
      "<class 'pandas.core.frame.DataFrame'>\n",
      "RangeIndex: 435632 entries, 0 to 435631\n",
      "Data columns (total 29 columns):\n",
      " #   Column                Non-Null Count   Dtype  \n",
      "---  ------                --------------   -----  \n",
      " 0   id                    435632 non-null  int64  \n",
      " 1   title                 435632 non-null  object \n",
      " 2   vote_average          435632 non-null  float64\n",
      " 3   vote_count            435632 non-null  int64  \n",
      " 4   status                435632 non-null  object \n",
      " 5   release_date          415986 non-null  object \n",
      " 6   revenue               435632 non-null  int64  \n",
      " 7   runtime               435632 non-null  int64  \n",
      " 8   adult                 435632 non-null  bool   \n",
      " 9   backdrop_path         184660 non-null  object \n",
      " 10  budget                435632 non-null  int64  \n",
      " 11  homepage              54450 non-null   object \n",
      " 12  tconst                435632 non-null  object \n",
      " 13  original_language     435632 non-null  object \n",
      " 14  original_title        435632 non-null  object \n",
      " 15  overview              393396 non-null  object \n",
      " 16  popularity            435632 non-null  float64\n",
      " 17  poster_path           360170 non-null  object \n",
      " 18  tagline               91617 non-null   object \n",
      " 19  genres                356804 non-null  object \n",
      " 20  production_companies  262669 non-null  object \n",
      " 21  production_countries  321878 non-null  object \n",
      " 22  spoken_languages      332408 non-null  object \n",
      " 23  keywords              170944 non-null  object \n",
      " 24  directors             425414 non-null  object \n",
      " 25  writers               369464 non-null  object \n",
      " 26  averageRating         435632 non-null  float64\n",
      " 27  numVotes              435632 non-null  int64  \n",
      " 28  cast                  366749 non-null  object \n",
      "dtypes: bool(1), float64(3), int64(6), object(19)\n",
      "memory usage: 93.5+ MB\n"
     ]
    }
   ],
   "source": [
    "df_movies = pd.read_csv(\"../data/raw/TMDB  IMDB Movies Dataset.csv\")\n",
    "df_movies.info()"
   ]
  }
 ],
 "metadata": {
  "kernelspec": {
   "display_name": "Python 3",
   "language": "python",
   "name": "python3"
  },
  "language_info": {
   "codemirror_mode": {
    "name": "ipython",
    "version": 3
   },
   "file_extension": ".py",
   "mimetype": "text/x-python",
   "name": "python",
   "nbconvert_exporter": "python",
   "pygments_lexer": "ipython3",
   "version": "3.13.7"
  }
 },
 "nbformat": 4,
 "nbformat_minor": 5
}
